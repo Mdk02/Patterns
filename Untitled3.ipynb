{
 "cells": [
  {
   "cell_type": "code",
   "execution_count": 3,
   "id": "47244cac",
   "metadata": {},
   "outputs": [],
   "source": [
    "import numpy as np\n",
    "import pandas as pd\n",
    "import seaborn as sns\n",
    "import matplotlib.pyplot as plt\n",
    "import pickle"
   ]
  },
  {
   "cell_type": "code",
   "execution_count": 70,
   "id": "d59389a2",
   "metadata": {},
   "outputs": [],
   "source": [
    "def pred(month, year, location):\n",
    "    \n",
    "    # импорт датафрейма\n",
    "    df = pd.read_csv('df.csv')\n",
    "    df['date'] = pd.to_datetime(df['date'])\n",
    "    df['month'] = df.apply(lambda x: x['date'].month, axis=1)\n",
    "    df['year'] = df.apply(lambda x: x['date'].year, axis=1)\n",
    "    \n",
    "    if month > 12 or month < 1 or year < 2019:\n",
    "        return None\n",
    "    elif df['year'].max() <= year:\n",
    "        # импорт модели\n",
    "        forest = pickle.load(open(\"forest.pkl\", \"rb\"))\n",
    "        # датафрейм для предсказания\n",
    "        pred_df = pd.DataFrame(columns=['Code_Location', 'dateAsInt', 'population', 'median_age', 'aged_65_older', 'aged_70_older', 'human_development_index', 'location', 'new_cases', 'date'])\n",
    "        #Прибавление дня к предыдущей строке\n",
    "        for i in range(46):          \n",
    "            pred_df['date'] = df['date'] + pd.to_timedelta(i,unit='d')\n",
    "            pred_df['location'] = df['location']\n",
    "        pred_df['human_development_index'] = df['human_development_index']\n",
    "        pred_df['Code_Location'] = df['Code_Location']\n",
    "        pred_df['dateAsInt'] = pred_df['date'].apply(lambda x:x.toordinal())\n",
    "        pred_df['population'] = df['population']\n",
    "        pred_df['median_age'] = df['median_age']\n",
    "        pred_df['aged_65_older'] = df['aged_65_older']\n",
    "        pred_df['aged_70_older'] = df['aged_70_older']\n",
    "        # Предсказание с помощью модели\n",
    "        pred_df['new_cases'] = forest.predict(pred_df.drop(columns=['new_cases', 'location', 'date'], axis=1))\n",
    "        df = df.append(pred_df)\n",
    "        df['date'] = pd.to_datetime(df['date'])\n",
    "        df['month'] = df.apply(lambda x: x['date'].month, axis=1)\n",
    "        df['year'] = df.apply(lambda x: x['date'].year, axis=1)\n",
    "    \n",
    "    # График и сохранение его как картинку\n",
    "    sns.set(rc={\"figure.figsize\":(10, 6)})\n",
    "    sns.scatterplot(data=df[(df['location'] == location) & (df['month'] == month) & (df['year'] == year)], x='date', y='new_cases');\n",
    "    plt.savefig('1.png')\n",
    "    \n",
    "    MonthDict={ 1 : \"January\",\n",
    "       2 : \"February\",\n",
    "       3 : \"March\",\n",
    "       4 : \"April\",\n",
    "       5 : \"May\",\n",
    "       6 : \"June\",\n",
    "       7 : \"July\",\n",
    "       8 : \"August\",\n",
    "       9 : \"September\",\n",
    "       10 : \"October\",\n",
    "       11 : \"November\",\n",
    "       12 : \"December\"\n",
    "    }\n",
    "    \n",
    "    color = \"\"\n",
    "    \n",
    "    # Если такие-то условия, то цвет красный\n",
    "    if df[df['level'] == max_level].quantile(.5) <= pred_df['new_cases'].median():\n",
    "        color = \"red\"\n",
    "    \n",
    "    # Формирование html документа\n",
    "    f = open('GFG.html', 'w', encoding='utf-8')\n",
    "    html_template = \"\"\"<html>\n",
    "    <head>\n",
    "    <title>Title</title>\n",
    "    </head>\n",
    "    <body>\n",
    "        <h2>%s</h2>\n",
    "        <img src=%s alt=\"1234\">\n",
    "        <div style=\"height: 50; width: 50; background-color: %s;\"></div>\n",
    "    </body>\n",
    "    </html>\n",
    "    \"\"\" % (MonthDict[month], '1.png', color)\n",
    "\n",
    "    f.write(html_template)\n",
    "    f.close()"
   ]
  },
  {
   "cell_type": "code",
   "execution_count": 71,
   "id": "ab27f1fe",
   "metadata": {
    "scrolled": true
   },
   "outputs": [
    {
     "name": "stderr",
     "output_type": "stream",
     "text": [
      "C:\\Users\\1\\AppData\\Local\\Temp\\ipykernel_2632\\244366405.py:25: FutureWarning: The frame.append method is deprecated and will be removed from pandas in a future version. Use pandas.concat instead.\n",
      "  df = df.append(pred_df)\n"
     ]
    },
    {
     "data": {
      "image/png": "[encoded data removed]",
      "text/plain": [
       "<Figure size 720x432 with 1 Axes>"
      ]
     },
     "metadata": {},
     "output_type": "display_data"
    }
   ],
   "source": [
    "pred(5, 2022, 'Afghanistan')"
   ]
  }
 ],
 "metadata": {
  "kernelspec": {
   "display_name": "Python 3 (ipykernel)",
   "language": "python",
   "name": "python3"
  },
  "language_info": {
   "codemirror_mode": {
    "name": "ipython",
    "version": 3
   },
   "file_extension": ".py",
   "mimetype": "text/x-python",
   "name": "python",
   "nbconvert_exporter": "python",
   "pygments_lexer": "ipython3",
   "version": "3.9.7"
  }
 },
 "nbformat": 4,
 "nbformat_minor": 5
}
